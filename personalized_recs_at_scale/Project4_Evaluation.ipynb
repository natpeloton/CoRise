{
  "cells": [
    {
      "cell_type": "markdown",
      "id": "oN0zQSPYncJR",
      "metadata": {
        "id": "oN0zQSPYncJR"
      },
      "source": [
        "# <u>Behavioral Metrics:</u>"
      ]
    },
    {
      "cell_type": "markdown",
      "id": "mKT-yDAzlP9Y",
      "metadata": {
        "id": "mKT-yDAzlP9Y"
      },
      "source": [
        "## **1. Introduction**\n",
        "[back to top](#scrollTo=bvONhqQblFfl&uniqifier=1)"
      ]
    },
    {
      "cell_type": "markdown",
      "id": "41f1f7cb-9441-4fe1-962e-9e4cb3e3c192",
      "metadata": {
        "id": "41f1f7cb-9441-4fe1-962e-9e4cb3e3c192"
      },
      "source": [
        "Welcome to the last week of the course -- so excited to see that you've made it to the end! 👏 \n",
        "\n",
        "We've already discussed the importance of measuring model performance. As Lord Kelvin said, \"To measure is to know – If you cannot measure it, you cannot improve it.\" And he was right – metrics are the only way we can actually evaluate our model’s performance!\n",
        "\n",
        "In this week's project, we will touch upon two key aspects related to evaluation:\n",
        "1. Behavioral metrics: We will work with a Spotify music sessions dataset and implement a few behavioral metrics to understand their relationships with traditional metrics.\n",
        "2. Off-policy evaluation: We will simulate a dataset where we have logged action policies, and see how IPS is implemented.\n",
        "  \n",
        "<br>\n",
        "\n",
        "### About the Data: Spotify Music Sessions\n",
        "Behavioral metrics include factors like what items a user interacts with and how, the amount of time they spend on the platform, and how they spend that time. To define and implement a few behavioral metrics, we will work with the Spotify music sessions dataset.\n",
        "\n",
        "The public part of the dataset consists of roughly 130 million listening sessions with associated user interactions on the Spotify service. In total, users interacted with almost 4 million tracks during these sessions, and the dataset includes acoustic features and metadata for all of these tracks. We'll be working with a sample of the full dataset.\n",
        "  \n",
        "<br>A detailed description of the dataset can be found [here](https://drive.google.com/file/d/1BELTuH4nBeyHna5EAGzJv-HWHKrbxPsf/view?usp=sharing).\n"
      ]
    },
    {
      "cell_type": "markdown",
      "id": "SuQ7Xnp1lolE",
      "metadata": {
        "id": "SuQ7Xnp1lolE"
      },
      "source": [
        "## **2. Setup**\n",
        "[back to top](#scrollTo=bvONhqQblFfl&uniqifier=1)"
      ]
    },
    {
      "cell_type": "code",
      "execution_count": 1,
      "id": "837dcaa9-cc0b-4345-bbee-3a09683decf9",
      "metadata": {
        "id": "837dcaa9-cc0b-4345-bbee-3a09683decf9"
      },
      "outputs": [],
      "source": [
        "# Imports\n",
        "import numpy as np\n",
        "import pandas as pd\n",
        "from sklearn.metrics import ndcg_score\n",
        "from collections import OrderedDict\n",
        "from IPython.display import clear_output\n",
        "from functools import partial\n",
        "from tqdm import tqdm\n",
        "tqdm.pandas()\n",
        "\n",
        "\n",
        "# Download the data\n",
        "!pip install -U --no-cache-dir gdown --pre\n",
        "!gdown --no-cookies --fuzzy https://drive.google.com/file/d/1Z8N0Xf9M34PuN4V5G5uAxasvOCm6TVp4/view?usp=sharing\n",
        "!gdown --no-cookies --fuzzy https://drive.google.com/file/d/1D3RyRBKBaw0KbLxpJUQDjVIt5CLpE2n9/view?usp=sharing\n",
        "\n",
        "clear_output()"
      ]
    },
    {
      "cell_type": "code",
      "execution_count": 32,
      "id": "88eb3b58-062c-4c96-b3f0-2db4407ce1b3",
      "metadata": {
        "colab": {
          "base_uri": "https://localhost:8080/"
        },
        "id": "88eb3b58-062c-4c96-b3f0-2db4407ce1b3",
        "outputId": "e151f11b-75bf-4378-aedb-58e86c283568"
      },
      "outputs": [
        {
          "data": {
            "text/plain": [
              "((167880, 21), (50704, 30))"
            ]
          },
          "execution_count": 32,
          "metadata": {},
          "output_type": "execute_result"
        }
      ],
      "source": [
        "# Read in data\n",
        "log = pd.read_csv(\"log_mini.csv\")\n",
        "tracks = pd.read_csv(\"tf_mini.csv\")\n",
        "\n",
        "log.shape, tracks.shape"
      ]
    },
    {
      "cell_type": "markdown",
      "id": "H1_DJMNDoW-5",
      "metadata": {
        "id": "H1_DJMNDoW-5"
      },
      "source": [
        "## **3. Traditional metrics: NDCG@K**\n",
        "[back to top](#scrollTo=bvONhqQblFfl&uniqifier=1)"
      ]
    },
    {
      "cell_type": "markdown",
      "id": "aba926f1-1f49-4b9d-b358-b780132f0070",
      "metadata": {
        "id": "aba926f1-1f49-4b9d-b358-b780132f0070"
      },
      "source": [
        "Normalized Discounted Cumulative Gain (NDCG) is a metric used to evaluate a ranked list of candidates, which values both order and relevancy of the items. In other words, it is able to use the fact that some documents are \"more\" relevant than others. Highly relevant items should come before medium relevant items, which should come before non-relevant items.\n",
        "  \n",
        "<br>We will use the log dataframe as the main dataframe for evaluation of metrics. The `skip_1` flag can be used as a relevance signal -- if the user found the recommendation relevant, `skip_1 = False`. With this relevance signal, we can compute simple NDCG metrics -- one for each session and then averaged across all sessions. This will serve as a base metric for comparison.\n",
        "\n",
        "Note: the ranking logic here is assumed to be the production ranker, i.e. sorting by `session_position` gives the exact order of tracks the Spotify ranker presented to the user.\n",
        "  \n",
        "<br>Let's compute a simple skip rate and NDCG metric for the production ranker:"
      ]
    },
    {
      "cell_type": "code",
      "execution_count": 3,
      "id": "O4TZsRjUU6gQ",
      "metadata": {
        "colab": {
          "base_uri": "https://localhost:8080/"
        },
        "id": "O4TZsRjUU6gQ",
        "outputId": "8379257d-570a-4ee8-b6f0-49340309b58f"
      },
      "outputs": [
        {
          "data": {
            "text/plain": [
              "0.40894"
            ]
          },
          "execution_count": 3,
          "metadata": {},
          "output_type": "execute_result"
        }
      ],
      "source": [
        "# Compute average skip rate @ 10\n",
        "\n",
        "topk = 10\n",
        "log.sort_values(by=['session_position']).groupby(\"session_id\").apply(lambda x: np.mean(x['skip_1'].values[:topk])).mean()"
      ]
    },
    {
      "cell_type": "code",
      "execution_count": 4,
      "id": "3iZkO9041pBS",
      "metadata": {
        "colab": {
          "base_uri": "https://localhost:8080/"
        },
        "id": "3iZkO9041pBS",
        "outputId": "a3977b0f-e0d5-49b3-c03d-232ce554ccbe"
      },
      "outputs": [
        {
          "name": "stderr",
          "output_type": "stream",
          "text": [
            "100%|██████████| 10000/10000 [00:20<00:00, 487.35it/s]\n"
          ]
        },
        {
          "data": {
            "text/plain": [
              "0.8330266041453142"
            ]
          },
          "execution_count": 4,
          "metadata": {},
          "output_type": "execute_result"
        }
      ],
      "source": [
        "# Compute NDCG @ 10\n",
        "\n",
        "def compute_ndcg(df, topk):\n",
        "    df = df.iloc[:topk]\n",
        "    true_relevance = np.asarray(1-np.asarray(df['skip_1']*1.0))\n",
        "    ranker_scores = np.asarray(1/(np.asarray(range(len(df)))+1)) # Approximate the ranker scores using the session position\n",
        "    return ndcg_score([true_relevance], [ranker_scores])\n",
        "\n",
        "topk = 10\n",
        "log.sort_values(by=['session_position']).groupby(\"session_id\").progress_apply(partial(compute_ndcg, topk=topk)).mean()"
      ]
    },
    {
      "cell_type": "markdown",
      "id": "rkHkC-SnsQRI",
      "metadata": {
        "id": "rkHkC-SnsQRI"
      },
      "source": [
        "## **4. TODO 4.1: Implement 3 Behavioral Metrics**\n",
        "[back to top](#scrollTo=bvONhqQblFfl&uniqifier=1)"
      ]
    },
    {
      "cell_type": "markdown",
      "id": "85f93877-750a-476d-b530-96659c5a8bd5",
      "metadata": {
        "id": "85f93877-750a-476d-b530-96659c5a8bd5"
      },
      "source": [
        "Your first goal is to implement three behavioral metrics and compare their correlations:\n",
        "1. *Time to first skip:* How long did it take for the user to get the first bad recommendation, i.e. a recommendation they skipped. Since we can't easily calculate time, we can use number of songs as a proxy and compute the metric as number of songs it took for the first skip.\n",
        "\n",
        "2. *Sustained dissatisfaction:* We assume that the user is dissatisfied in a sustained manner if they skip 3 songs consecutively.\n",
        "\n",
        "3. *Session coherence:* We define coherence as how similar the recommended musical tracks are. We can use the acoustic_vector of the music tracks to calculate the similarity.\n",
        "\n",
        "Once these metrics are implemented, compute them for `topk=5` and `topk=10`. Compare their estimates for the production ranker as a correlation plot. Please note which metrics are correlated with NDCG."
      ]
    },
    {
      "cell_type": "code",
      "execution_count": 5,
      "id": "b8eba1c0-5ef0-40eb-9cbd-18df57607747",
      "metadata": {
        "colab": {
          "base_uri": "https://localhost:8080/"
        },
        "id": "b8eba1c0-5ef0-40eb-9cbd-18df57607747",
        "outputId": "847d8640-a911-4a72-bea2-e8eb0ba238a3"
      },
      "outputs": [
        {
          "name": "stdout",
          "output_type": "stream",
          "text": [
            "Time to first skip: 4.6348\n",
            "Top k @ 5: 3.0775\n",
            "Top k @ 10: 4.0886\n"
          ]
        }
      ],
      "source": [
        "# Implement session metric 1:\n",
        "    # Time to first skip (number of songs to first skip)\n",
        "    # Our implementation found the answer to be 4.6380\n",
        "        # We assumed no skips yields the number of songs listened to as opposed to a null\n",
        "\n",
        "def find_first_skip(skip_list):\n",
        "  \"\"\"\n",
        "  Finds the index of the first skip in a list of skip_1 values. \n",
        "  If all values are False, return the length of the array.\n",
        "  \"\"\"\n",
        "  true_indices = np.where(skip_list)\n",
        "  if len(true_indices[0]) == 0:\n",
        "    return len(skip_list) \n",
        "  else:\n",
        "    return true_indices[0][0] + 1\n",
        "\n",
        "print(f\"Time to first skip: {log.sort_values(by=['session_position']).groupby('session_id').apply(lambda x: find_first_skip(x['skip_1'].values)).mean()}\")\n",
        "\n",
        "for topk in [5, 10]:\n",
        "  print(f\"Top k @ {topk}: {log.sort_values(by=['session_position']).groupby('session_id').apply(lambda x: find_first_skip(x['skip_1'].values[:topk])).mean()}\")"
      ]
    },
    {
      "cell_type": "code",
      "execution_count": 6,
      "id": "aabd3d1a-8710-4883-88f5-bf3f926ebba3",
      "metadata": {
        "colab": {
          "base_uri": "https://localhost:8080/"
        },
        "id": "aabd3d1a-8710-4883-88f5-bf3f926ebba3",
        "outputId": "b05b3bb5-4e2a-4986-9730-62b5dcb5379f"
      },
      "outputs": [
        {
          "name": "stdout",
          "output_type": "stream",
          "text": [
            "Proportion of sessions with 3 consecutive skips: 0.6543\n",
            "Top k @ 5: 0.2964\n",
            "Top k @ 10: 0.5238\n"
          ]
        }
      ],
      "source": [
        "# Implement session metric 2:\n",
        "    # Sustained dissatisfaction: Proportions of sessions with 3 consecutive skips\n",
        "    # Our implementation found the answer to be 0.6543\n",
        "\n",
        "def has_three_skips(skip_list):\n",
        "  \"\"\"\n",
        "  Returns 1 if skip_list has three consecutive skips and 0 otherwise.\n",
        "  \"\"\"\n",
        "  for i in range(len(skip_list)-2):\n",
        "    if sum(skip_list[i:i+3]) == 3:\n",
        "      return 1\n",
        "  return 0\n",
        "\n",
        "print(f\"Proportion of sessions with 3 consecutive skips: {log.sort_values(by=['session_position']).groupby('session_id').apply(lambda x: has_three_skips(x['skip_1'].values)).mean()}\")\n",
        "\n",
        "for topk in [5, 10]:\n",
        "  print(f\"Top k @ {topk}: {log.sort_values(by=['session_position']).groupby('session_id').apply(lambda x: has_three_skips(x['skip_1'].values[:topk])).mean()}\")    "
      ]
    },
    {
      "cell_type": "code",
      "execution_count": 7,
      "id": "5f41f788-daf7-44a4-9612-178f190e58bd",
      "metadata": {
        "colab": {
          "base_uri": "https://localhost:8080/"
        },
        "id": "5f41f788-daf7-44a4-9612-178f190e58bd",
        "outputId": "7ef0e8e4-75e7-48f2-ce07-1f6d9021531c"
      },
      "outputs": [
        {
          "name": "stdout",
          "output_type": "stream",
          "text": [
            "Average similarity: 0.8190426042511496\n",
            "Top k @ 5: 0.8569095224919191\n",
            "Top k @ 10: 0.8332746661515774\n"
          ]
        }
      ],
      "source": [
        "from sklearn.metrics.pairwise import cosine_similarity\n",
        "# Implement session metric 3: \n",
        "    # Session coherence: Average similarity between the top recommended tracks\n",
        "    # Our implementation found the answer to be ~0.8097\n",
        "        # We calculated the Cosine Similarity between tracks using the 8 element acoustic vector per track\n",
        "        # Cosine Similarity is the dot product of unit-length vectors\n",
        "        # Feel free to use a different similarity metric, such as Euclidean Distance from last week\n",
        "\n",
        "def compute_avg_similarity(track_id_list):\n",
        "  \"\"\"\n",
        "  Takes in a list of track IDs and returns the average similarity between the tracks\n",
        "  \"\"\"\n",
        "  track_vectors = tracks[tracks['track_id'].isin(track_id_list)][\n",
        "    ['acoustic_vector_0', \n",
        "     'acoustic_vector_1', \n",
        "     'acoustic_vector_2',\n",
        "     'acoustic_vector_3', \n",
        "     'acoustic_vector_4', \n",
        "     'acoustic_vector_5',\n",
        "     'acoustic_vector_6', \n",
        "     'acoustic_vector_7'\n",
        "     ]\n",
        "  ]\n",
        "\n",
        "  return cosine_similarity(track_vectors).mean()\n",
        "\n",
        "print(f\"Average similarity: {log.sort_values(by=['session_position']).groupby('session_id').apply(lambda x: compute_avg_similarity(x['track_id_clean'].values)).mean()}\")\n",
        "\n",
        "for topk in [5, 10]:\n",
        "  print(f\"Top k @ {topk}: {log.sort_values(by=['session_position']).groupby('session_id').apply(lambda x: compute_avg_similarity(x['track_id_clean'].values[:topk])).mean()}\")   \n"
      ]
    },
    {
      "cell_type": "code",
      "execution_count": 23,
      "id": "fd4Fr12w_Uiw",
      "metadata": {
        "colab": {
          "base_uri": "https://localhost:8080/"
        },
        "id": "fd4Fr12w_Uiw",
        "outputId": "7411fed2-c682-4584-bbd0-00e463b98fd5"
      },
      "outputs": [
        {
          "name": "stderr",
          "output_type": "stream",
          "text": [
            "100%|██████████| 10000/10000 [00:10<00:00, 935.60it/s]\n",
            "100%|██████████| 10000/10000 [00:00<00:00, 21262.57it/s]\n",
            "100%|██████████| 10000/10000 [00:01<00:00, 8453.32it/s]\n",
            "100%|██████████| 10000/10000 [00:54<00:00, 182.43it/s]\n"
          ]
        }
      ],
      "source": [
        "topk = 5\n",
        "df = pd.DataFrame({\n",
        "      f\"ndcg_topk@{topk}\": log.sort_values(by=['session_position']).groupby(\"session_id\").progress_apply(partial(compute_ndcg, topk=topk)),\n",
        "      f\"first_skip@{topk}\": log.sort_values(by=['session_position']).groupby('session_id').progress_apply(lambda x: find_first_skip(x['skip_1'].values[:topk])),\n",
        "      f\"sustained_dissatisfaction@{topk}\": log.sort_values(by=['session_position']).groupby('session_id').progress_apply(lambda x: has_three_skips(x['skip_1'].values[:topk])),\n",
        "      f\"session_coherence@{topk}\": log.sort_values(by=['session_position']).groupby('session_id').progress_apply(lambda x: compute_avg_similarity(x['track_id_clean'].values[:topk])),\n",
        "  })"
      ]
    },
    {
      "cell_type": "code",
      "execution_count": 28,
      "id": "pI1fUhZ6tJQ2",
      "metadata": {
        "colab": {
          "base_uri": "https://localhost:8080/",
          "height": 636
        },
        "id": "pI1fUhZ6tJQ2",
        "outputId": "7d99a11a-24fb-494b-bacf-72e4b4956ab8"
      },
      "outputs": [
        {
          "data": {
            "text/plain": [
              "<AxesSubplot:>"
            ]
          },
          "execution_count": 28,
          "metadata": {},
          "output_type": "execute_result"
        },
        {
          "data": {
            "image/png": "[encoded data removed]",
            "text/plain": [
              "<Figure size 576x576 with 2 Axes>"
            ]
          },
          "metadata": {
            "needs_background": "light"
          },
          "output_type": "display_data"
        }
      ],
      "source": [
        "# Correlation plot amongst metrics and NDCG\n",
        "import seaborn as sns\n",
        "import matplotlib.pyplot as plt\n",
        "\n",
        "# correlation plot for topk = 5\n",
        "\n",
        "plt.figure(figsize=(8,8))\n",
        "corr=df.corr()\n",
        "mask = np.triu(np.ones_like(corr, dtype=bool))\n",
        "cmap = sns.diverging_palette(230, 20, as_cmap=True)\n",
        "sns.heatmap(corr, mask=mask, cmap=cmap, vmin=-1, vmax=1, annot=True)\n",
        "\n"
      ]
    },
    {
      "cell_type": "markdown",
      "id": "a4ZcoFf8uL2v",
      "metadata": {
        "id": "a4ZcoFf8uL2v"
      },
      "source": [
        "## **5. TODO 4.2: Implement a New, Non-Learnt Ranker**\n",
        "[back to top](#scrollTo=bvONhqQblFfl&uniqifier=1)"
      ]
    },
    {
      "cell_type": "markdown",
      "id": "26c7ffa6-2c35-45c0-9d6d-78ab11f30632",
      "metadata": {
        "id": "26c7ffa6-2c35-45c0-9d6d-78ab11f30632"
      },
      "source": [
        "Your next goal is to implement another simple, non-learnt ranking logic, and compare the performance of both the production ranker and new ranking policy on the NDCG and three behavioral metrics you created above. A simple ranking policy could include sort by track popularity, or sort by danceability score for the track.\n",
        "  \n",
        "<br>Implement your ranker and then comment on its performance on our behavioral metrics compared to Spotify's production ranker:"
      ]
    },
    {
      "cell_type": "code",
      "execution_count": 63,
      "id": "vwIO3BN35ELm",
      "metadata": {
        "id": "vwIO3BN35ELm"
      },
      "outputs": [],
      "source": [
        "log = pd.read_csv(\"log_mini.csv\")"
      ]
    },
    {
      "cell_type": "code",
      "execution_count": 64,
      "id": "6b518677-2ffd-4e9e-97cc-7de494ac8543",
      "metadata": {
        "id": "6b518677-2ffd-4e9e-97cc-7de494ac8543"
      },
      "outputs": [],
      "source": [
        "log = pd.merge(log, tracks[['track_id', 'release_year', 'us_popularity_estimate', 'energy', 'beat_strength']], left_on='track_id_clean', right_on='track_id', how='left')\n",
        "\n",
        "log['new_rank_popularity_rank'] = log.groupby('session_id')['us_popularity_estimate'].rank(ascending=False)\n",
        "log['release_year_rank'] = log.groupby('session_id')['release_year'].rank(ascending=False)\n",
        "log['beat_strength'] = log.groupby('session_id')['beat_strength'].rank(ascending=False)\n",
        "log['energy'] = log.groupby('session_id')['energy'].rank(ascending=False)\n",
        "log['new_rank_score'] = (log.new_rank_popularity_rank+log.energy+log.beat_strength+log.release_year_rank)/4\n",
        "log['new_rank'] = log.new_rank_score.rank(ascending=False)"
      ]
    },
    {
      "cell_type": "code",
      "execution_count": 66,
      "id": "W4pTWnrz2Roo",
      "metadata": {
        "colab": {
          "base_uri": "https://localhost:8080/"
        },
        "id": "W4pTWnrz2Roo",
        "outputId": "b965cf85-3536-4b3d-e4aa-93dddbbd671f"
      },
      "outputs": [
        {
          "name": "stderr",
          "output_type": "stream",
          "text": [
            "100%|██████████| 10000/10000 [00:17<00:00, 564.18it/s]\n"
          ]
        },
        {
          "name": "stdout",
          "output_type": "stream",
          "text": [
            "ndcg_topk@5 for production ranker: 0.8235700606177565\n"
          ]
        },
        {
          "name": "stderr",
          "output_type": "stream",
          "text": [
            "100%|██████████| 10000/10000 [00:12<00:00, 774.45it/s]\n"
          ]
        },
        {
          "name": "stdout",
          "output_type": "stream",
          "text": [
            "ndcg_topk@5 for new ranker: 0.7535962241368467\n"
          ]
        },
        {
          "name": "stderr",
          "output_type": "stream",
          "text": [
            "100%|██████████| 10000/10000 [00:00<00:00, 14731.70it/s]\n"
          ]
        },
        {
          "name": "stdout",
          "output_type": "stream",
          "text": [
            "first_skip@5 for production ranker: 3.0775\n"
          ]
        },
        {
          "name": "stderr",
          "output_type": "stream",
          "text": [
            "100%|██████████| 10000/10000 [00:00<00:00, 17794.28it/s]\n"
          ]
        },
        {
          "name": "stdout",
          "output_type": "stream",
          "text": [
            "first_skip@5 for new ranker: 2.501\n"
          ]
        },
        {
          "name": "stderr",
          "output_type": "stream",
          "text": [
            "100%|██████████| 10000/10000 [00:58<00:00, 172.11it/s]\n"
          ]
        },
        {
          "name": "stdout",
          "output_type": "stream",
          "text": [
            "session_coherence@5 for production ranker: 0.8569095224919191\n"
          ]
        },
        {
          "name": "stderr",
          "output_type": "stream",
          "text": [
            "100%|██████████| 10000/10000 [00:53<00:00, 185.41it/s]"
          ]
        },
        {
          "name": "stdout",
          "output_type": "stream",
          "text": [
            "session_coherence@5 for new ranker: 0.8317141052954461\n"
          ]
        },
        {
          "name": "stderr",
          "output_type": "stream",
          "text": [
            "\n"
          ]
        }
      ],
      "source": [
        "print(f\"ndcg_topk@{topk} for production ranker: {log.sort_values(by=['session_position']).groupby('session_id').progress_apply(partial(compute_ndcg, topk=topk)).mean()}\")\n",
        "print(f\"ndcg_topk@{topk} for new ranker: {log.sort_values(by=['new_rank']).groupby('session_id').progress_apply(partial(compute_ndcg, topk=topk)).mean()}\")\n",
        "print(f\"first_skip@{topk} for production ranker: {log.sort_values(by=['session_position']).groupby('session_id').progress_apply(lambda x: find_first_skip(x['skip_1'].values[:topk])).mean()}\")\n",
        "print(f\"first_skip@{topk} for new ranker: {log.sort_values(by=['new_rank']).groupby('session_id').progress_apply(lambda x: find_first_skip(x['skip_1'].values[:topk])).mean()}\")\n",
        "print(f\"session_coherence@{topk} for production ranker: {log.sort_values(by=['session_position']).groupby('session_id').progress_apply(lambda x: compute_avg_similarity(x['track_id_clean'].values[:topk])).mean()}\")\n",
        "print(f\"session_coherence@{topk} for new ranker: {log.sort_values(by=['new_rank']).groupby('session_id').progress_apply(lambda x: compute_avg_similarity(x['track_id_clean'].values[:topk])).mean()}\")"
      ]
    },
    {
      "cell_type": "code",
      "execution_count": null,
      "id": "2sSwCMde9tZ9",
      "metadata": {
        "id": "2sSwCMde9tZ9"
      },
      "outputs": [],
      "source": [
        "# Comments on performance\n",
        "\"\"\"\n",
        "I tried a handful of different features to use for ranking and different methods of combining the rank scores but none of them could beat the production ranker!\n",
        "\"\"\""
      ]
    },
    {
      "cell_type": "markdown",
      "id": "QE9kKG28vT-H",
      "metadata": {
        "id": "QE9kKG28vT-H"
      },
      "source": [
        "# <u>Off-Policy Evaluation:</u>"
      ]
    },
    {
      "cell_type": "markdown",
      "id": "LKg4HQSbxwCY",
      "metadata": {
        "id": "LKg4HQSbxwCY"
      },
      "source": [
        "## **1. Introduction**\n",
        "[back to top](#scrollTo=bvONhqQblFfl&uniqifier=1)"
      ]
    },
    {
      "cell_type": "markdown",
      "id": "b7e4812d-3b39-4def-a293-7da0297f32a1",
      "metadata": {
        "id": "b7e4812d-3b39-4def-a293-7da0297f32a1"
      },
      "source": [
        "We log listener behavior based on the recommendations that the production recommender serves to the listener. Using this data to assess any new recommender system, however, can present challenges – the production recommender and the new recommender can drastically differ in the results that they display to the user. For example, maybe the new recommender presents a lot of niche content, while the production recommender presents a lot of popular options. This can be an issue when evaluating a new recommender – If you don’t have any feedback on a recommendation because you never presented it to a user, how can you evaluate whether it’s a good recommendation?\n",
        "If you have a new policy to test that’s very similar to your old approach, then this won’t be an issue, and it’ll be easy to test! However, if the policy is very different, then you’ll need to collect special logged data.\n",
        "\n",
        "In this part of the project, we will simulate a recommendation policy and leverage counterfactual estimators as metrics to compare performance."
      ]
    },
    {
      "cell_type": "markdown",
      "id": "Qp_3_z7myCKU",
      "metadata": {
        "id": "Qp_3_z7myCKU"
      },
      "source": [
        "## **2. Setup**\n",
        "[back to top](#scrollTo=bvONhqQblFfl&uniqifier=1)"
      ]
    },
    {
      "cell_type": "markdown",
      "id": "i38fIQrsx50p",
      "metadata": {
        "id": "i38fIQrsx50p"
      },
      "source": [
        "Let's first begin by generating a few users and products. For ease of simulation, we assume users derive equal satisfaction from each item:"
      ]
    },
    {
      "cell_type": "code",
      "execution_count": 68,
      "id": "539cfda5-98eb-415c-a98b-ccb9acc22031",
      "metadata": {
        "id": "539cfda5-98eb-415c-a98b-ccb9acc22031"
      },
      "outputs": [],
      "source": [
        "users = np.array([\"user1\", \"user2\", \"user3\"])\n",
        "\n",
        "products = np.array(\n",
        "    [\n",
        "        \"product_a\",\n",
        "        \"product_b\",\n",
        "        \"product_c\",\n",
        "        \"product_d\",\n",
        "        \"product_e\",\n",
        "        \"product_f\",\n",
        "        \"product_g\",\n",
        "    ]\n",
        ")\n",
        "\n",
        "satisfaction = {\n",
        "    \"product_a\": 100,\n",
        "    \"product_b\": 150,\n",
        "    \"product_c\": 100,\n",
        "    \"product_d\": 200,\n",
        "    \"product_e\": 500,\n",
        "    \"product_f\": 120,\n",
        "    \"product_g\": 160,\n",
        "}"
      ]
    },
    {
      "cell_type": "markdown",
      "id": "1a77fd2c-7586-4ea5-9e28-67d6f3050bab",
      "metadata": {
        "id": "1a77fd2c-7586-4ea5-9e28-67d6f3050bab"
      },
      "source": [
        "Let's also implement whether a given user will accept a given recommendation or not. Once done, we can implement a target policy that makes recommendations."
      ]
    },
    {
      "cell_type": "code",
      "execution_count": 69,
      "id": "fd59b6ef-5d27-47b5-8b39-8adfd8eae51d",
      "metadata": {
        "id": "fd59b6ef-5d27-47b5-8b39-8adfd8eae51d"
      },
      "outputs": [],
      "source": [
        "def will_purchase(user, product):\n",
        "    if user == \"user1\" and (\n",
        "        product == \"product_a\" or product == \"product_b\" or product == \"product_c\"\n",
        "    ):\n",
        "        return True\n",
        "    elif user == \"user2\" and (product == \"product_d\" or product == \"product_e\"):\n",
        "        return True\n",
        "    elif user == \"user3\" and (product == \"product_f\" or product == \"product_g\"):\n",
        "        return True\n",
        "    else:\n",
        "        return False\n",
        "\n",
        "\n",
        "def choose_user():\n",
        "    return np.random.choice(users, size=1)\n",
        "\n",
        "\n",
        "def logging_policy():\n",
        "    return np.random.choice(products, size=1), 1 / len(products)\n",
        "\n",
        "\n",
        "class TargetPolicy:\n",
        "    def __init__(self):\n",
        "        self.user_probs = {\n",
        "            \"user1\": np.array([0.1, 0.1, 0.2, 0.1, 0.15, 0.15, 0.20]),\n",
        "            \"user2\": np.array([0.1, 0.10, 0.05, 0.25, 0.3, 0.1, 0.1]),\n",
        "            \"user3\": np.array([0.06, 0.06, 0.3, 0.06, 0.06, 0.4, 0.06]),\n",
        "        }\n",
        "\n",
        "        for user, probs in self.user_probs.items():\n",
        "            assert probs.sum() == 1\n",
        "            assert len(probs) == len(products)\n",
        "\n",
        "    def recommend(self, user):\n",
        "        user_prob = self.user_probs[user]\n",
        "        product = np.random.choice(products, size=1, p=user_prob)\n",
        "        product_idx = np.where(products == product)\n",
        "        prob = user_prob[product_idx]\n",
        "\n",
        "        return product, prob\n",
        "\n",
        "    def get_prob(self, user, product):\n",
        "        user_prob = self.user_probs[user]\n",
        "        product_idx = np.where(products == product)\n",
        "        product_prob = user_prob[product_idx]\n",
        "\n",
        "        return product_prob"
      ]
    },
    {
      "cell_type": "markdown",
      "id": "b0d1d10d-a993-42fb-a26c-106a46001719",
      "metadata": {
        "id": "b0d1d10d-a993-42fb-a26c-106a46001719"
      },
      "source": [
        "Having defined all key components of the dataset generation, let's create logged data that we can finally use for evaluation purposes:"
      ]
    },
    {
      "cell_type": "code",
      "execution_count": 70,
      "id": "e78f2bd2-5ad1-4b9e-87b5-abad2b3098a2",
      "metadata": {
        "id": "e78f2bd2-5ad1-4b9e-87b5-abad2b3098a2"
      },
      "outputs": [],
      "source": [
        "def compute_satisfaction(user, product):\n",
        "    if will_purchase(user, product):\n",
        "        return satisfaction[product.item()]\n",
        "    else:\n",
        "        return 0\n",
        "\n",
        "\n",
        "def create_logs(n=1000):\n",
        "    logs = []\n",
        "    target_policy = TargetPolicy()\n",
        "\n",
        "    for _ in tqdm(range(n)):\n",
        "        user = choose_user()\n",
        "\n",
        "        logging_product, logging_prob = logging_policy()\n",
        "        model_prob = target_policy.get_prob(user.item(), logging_product)\n",
        "\n",
        "        target_product, _ = target_policy.recommend(user.item())\n",
        "\n",
        "        logging_satisfaction = compute_satisfaction(user, logging_product)\n",
        "        target_satisfaction = compute_satisfaction(user, target_product)\n",
        "\n",
        "        log = OrderedDict(\n",
        "            {\n",
        "                \"user_features\": user.item(),\n",
        "                \"item_placed\": logging_product.item(),\n",
        "                \"item_prob\": logging_prob,\n",
        "                \"item_satisfaction\": logging_satisfaction,\n",
        "                \"model_prob\": model_prob.item(),\n",
        "                \"ab_test_satisfaction\": target_satisfaction,\n",
        "            }\n",
        "        )\n",
        "\n",
        "        logs.append(log)\n",
        "\n",
        "    return pd.DataFrame(logs)"
      ]
    },
    {
      "cell_type": "markdown",
      "id": "bf3731a5-75ba-4522-889a-a3bdba5d46dc",
      "metadata": {
        "id": "bf3731a5-75ba-4522-889a-a3bdba5d46dc"
      },
      "source": [
        "Here is what our logged data now looks like:"
      ]
    },
    {
      "cell_type": "code",
      "execution_count": 71,
      "id": "4ff18b51-9484-4e15-9f73-c8950343fac9",
      "metadata": {
        "colab": {
          "base_uri": "https://localhost:8080/",
          "height": 224
        },
        "id": "4ff18b51-9484-4e15-9f73-c8950343fac9",
        "outputId": "16470b39-24bf-425c-bf9f-0d3571a74844"
      },
      "outputs": [
        {
          "name": "stderr",
          "output_type": "stream",
          "text": [
            "100%|██████████| 1000/1000 [00:00<00:00, 7804.01it/s]\n"
          ]
        },
        {
          "data": {
            "text/html": [
              "\n",
              "  <div id=\"df-dbf2267f-247e-436b-956f-aa78f2a9a78b\">\n",
              "    <div class=\"colab-df-container\">\n",
              "      <div>\n",
              "<style scoped>\n",
              "    .dataframe tbody tr th:only-of-type {\n",
              "        vertical-align: middle;\n",
              "    }\n",
              "\n",
              "    .dataframe tbody tr th {\n",
              "        vertical-align: top;\n",
              "    }\n",
              "\n",
              "    .dataframe thead th {\n",
              "        text-align: right;\n",
              "    }\n",
              "</style>\n",
              "<table border=\"1\" class=\"dataframe\">\n",
              "  <thead>\n",
              "    <tr style=\"text-align: right;\">\n",
              "      <th></th>\n",
              "      <th>user_features</th>\n",
              "      <th>item_placed</th>\n",
              "      <th>item_prob</th>\n",
              "      <th>item_satisfaction</th>\n",
              "      <th>model_prob</th>\n",
              "      <th>ab_test_satisfaction</th>\n",
              "    </tr>\n",
              "  </thead>\n",
              "  <tbody>\n",
              "    <tr>\n",
              "      <th>0</th>\n",
              "      <td>user3</td>\n",
              "      <td>product_e</td>\n",
              "      <td>0.142857</td>\n",
              "      <td>0</td>\n",
              "      <td>0.06</td>\n",
              "      <td>0</td>\n",
              "    </tr>\n",
              "    <tr>\n",
              "      <th>1</th>\n",
              "      <td>user1</td>\n",
              "      <td>product_f</td>\n",
              "      <td>0.142857</td>\n",
              "      <td>0</td>\n",
              "      <td>0.15</td>\n",
              "      <td>0</td>\n",
              "    </tr>\n",
              "    <tr>\n",
              "      <th>2</th>\n",
              "      <td>user2</td>\n",
              "      <td>product_g</td>\n",
              "      <td>0.142857</td>\n",
              "      <td>0</td>\n",
              "      <td>0.10</td>\n",
              "      <td>200</td>\n",
              "    </tr>\n",
              "    <tr>\n",
              "      <th>3</th>\n",
              "      <td>user3</td>\n",
              "      <td>product_a</td>\n",
              "      <td>0.142857</td>\n",
              "      <td>0</td>\n",
              "      <td>0.06</td>\n",
              "      <td>0</td>\n",
              "    </tr>\n",
              "    <tr>\n",
              "      <th>4</th>\n",
              "      <td>user2</td>\n",
              "      <td>product_f</td>\n",
              "      <td>0.142857</td>\n",
              "      <td>0</td>\n",
              "      <td>0.10</td>\n",
              "      <td>200</td>\n",
              "    </tr>\n",
              "  </tbody>\n",
              "</table>\n",
              "</div>\n",
              "      <button class=\"colab-df-convert\" onclick=\"convertToInteractive('df-dbf2267f-247e-436b-956f-aa78f2a9a78b')\"\n",
              "              title=\"Convert this dataframe to an interactive table.\"\n",
              "              style=\"display:none;\">\n",
              "        \n",
              "  <svg xmlns=\"http://www.w3.org/2000/svg\" height=\"24px\"viewBox=\"0 0 24 24\"\n",
              "       width=\"24px\">\n",
              "    <path d=\"M0 0h24v24H0V0z\" fill=\"none\"/>\n",
              "    <path d=\"M18.56 5.44l.94 2.06.94-2.06 2.06-.94-2.06-.94-.94-2.06-.94 2.06-2.06.94zm-11 1L8.5 8.5l.94-2.06 2.06-.94-2.06-.94L8.5 2.5l-.94 2.06-2.06.94zm10 10l.94 2.06.94-2.06 2.06-.94-2.06-.94-.94-2.06-.94 2.06-2.06.94z\"/><path d=\"M17.41 7.96l-1.37-1.37c-.4-.4-.92-.59-1.43-.59-.52 0-1.04.2-1.43.59L10.3 9.45l-7.72 7.72c-.78.78-.78 2.05 0 2.83L4 21.41c.39.39.9.59 1.41.59.51 0 1.02-.2 1.41-.59l7.78-7.78 2.81-2.81c.8-.78.8-2.07 0-2.86zM5.41 20L4 18.59l7.72-7.72 1.47 1.35L5.41 20z\"/>\n",
              "  </svg>\n",
              "      </button>\n",
              "      \n",
              "  <style>\n",
              "    .colab-df-container {\n",
              "      display:flex;\n",
              "      flex-wrap:wrap;\n",
              "      gap: 12px;\n",
              "    }\n",
              "\n",
              "    .colab-df-convert {\n",
              "      background-color: #E8F0FE;\n",
              "      border: none;\n",
              "      border-radius: 50%;\n",
              "      cursor: pointer;\n",
              "      display: none;\n",
              "      fill: #1967D2;\n",
              "      height: 32px;\n",
              "      padding: 0 0 0 0;\n",
              "      width: 32px;\n",
              "    }\n",
              "\n",
              "    .colab-df-convert:hover {\n",
              "      background-color: #E2EBFA;\n",
              "      box-shadow: 0px 1px 2px rgba(60, 64, 67, 0.3), 0px 1px 3px 1px rgba(60, 64, 67, 0.15);\n",
              "      fill: #174EA6;\n",
              "    }\n",
              "\n",
              "    [theme=dark] .colab-df-convert {\n",
              "      background-color: #3B4455;\n",
              "      fill: #D2E3FC;\n",
              "    }\n",
              "\n",
              "    [theme=dark] .colab-df-convert:hover {\n",
              "      background-color: #434B5C;\n",
              "      box-shadow: 0px 1px 3px 1px rgba(0, 0, 0, 0.15);\n",
              "      filter: drop-shadow(0px 1px 2px rgba(0, 0, 0, 0.3));\n",
              "      fill: #FFFFFF;\n",
              "    }\n",
              "  </style>\n",
              "\n",
              "      <script>\n",
              "        const buttonEl =\n",
              "          document.querySelector('#df-dbf2267f-247e-436b-956f-aa78f2a9a78b button.colab-df-convert');\n",
              "        buttonEl.style.display =\n",
              "          google.colab.kernel.accessAllowed ? 'block' : 'none';\n",
              "\n",
              "        async function convertToInteractive(key) {\n",
              "          const element = document.querySelector('#df-dbf2267f-247e-436b-956f-aa78f2a9a78b');\n",
              "          const dataTable =\n",
              "            await google.colab.kernel.invokeFunction('convertToInteractive',\n",
              "                                                     [key], {});\n",
              "          if (!dataTable) return;\n",
              "\n",
              "          const docLinkHtml = 'Like what you see? Visit the ' +\n",
              "            '<a target=\"_blank\" href=https://colab.research.google.com/notebooks/data_table.ipynb>data table notebook</a>'\n",
              "            + ' to learn more about interactive tables.';\n",
              "          element.innerHTML = '';\n",
              "          dataTable['output_type'] = 'display_data';\n",
              "          await google.colab.output.renderOutput(dataTable, element);\n",
              "          const docLink = document.createElement('div');\n",
              "          docLink.innerHTML = docLinkHtml;\n",
              "          element.appendChild(docLink);\n",
              "        }\n",
              "      </script>\n",
              "    </div>\n",
              "  </div>\n",
              "  "
            ],
            "text/plain": [
              "  user_features item_placed  item_prob  item_satisfaction  model_prob  \\\n",
              "0         user3   product_e   0.142857                  0        0.06   \n",
              "1         user1   product_f   0.142857                  0        0.15   \n",
              "2         user2   product_g   0.142857                  0        0.10   \n",
              "3         user3   product_a   0.142857                  0        0.06   \n",
              "4         user2   product_f   0.142857                  0        0.10   \n",
              "\n",
              "   ab_test_satisfaction  \n",
              "0                     0  \n",
              "1                     0  \n",
              "2                   200  \n",
              "3                     0  \n",
              "4                   200  "
            ]
          },
          "execution_count": 71,
          "metadata": {},
          "output_type": "execute_result"
        }
      ],
      "source": [
        "logs = create_logs(n=1000)\n",
        "logs.head(5)"
      ]
    },
    {
      "cell_type": "markdown",
      "id": "9RboprQXyuCB",
      "metadata": {
        "id": "9RboprQXyuCB"
      },
      "source": [
        "## **3. Rewards and IPS**\n",
        "[back to top](#scrollTo=bvONhqQblFfl&uniqifier=1)"
      ]
    },
    {
      "cell_type": "markdown",
      "id": "cc6a4c42-467f-4dfd-8e75-3d58a9c77781",
      "metadata": {
        "id": "cc6a4c42-467f-4dfd-8e75-3d58a9c77781"
      },
      "source": [
        "With the dataset ready, let's compute the mean rewards (satisfaction) for the logging/production policy and the target policy. Note that due to randomness in the log generation process your result will likely differ.\n"
      ]
    },
    {
      "cell_type": "code",
      "execution_count": 72,
      "id": "082465c7-b149-40ac-aa40-a44116d2a7bf",
      "metadata": {
        "colab": {
          "base_uri": "https://localhost:8080/"
        },
        "id": "082465c7-b149-40ac-aa40-a44116d2a7bf",
        "outputId": "26ebad7e-2efc-4bee-b0f6-2e2ac1244a97"
      },
      "outputs": [
        {
          "name": "stderr",
          "output_type": "stream",
          "text": [
            "100%|██████████| 100000/100000 [00:14<00:00, 6969.40it/s]\n"
          ]
        },
        {
          "name": "stdout",
          "output_type": "stream",
          "text": [
            "Expected reward from logging policy: 63.70\n",
            "Expected reward from target policy: 101.07\n"
          ]
        }
      ],
      "source": [
        "sim = create_logs(n=100_000)\n",
        "logging_policy_reward = sim[\"item_satisfaction\"].mean()\n",
        "target_policy_reward = sim[\"ab_test_satisfaction\"].mean()\n",
        "\n",
        "print(f\"Expected reward from logging policy: {logging_policy_reward:.2f}\")\n",
        "print(f\"Expected reward from target policy: {target_policy_reward:.2f}\")"
      ]
    },
    {
      "cell_type": "markdown",
      "id": "37a954a7-a0ea-4bec-9d60-3ec0ea549f40",
      "metadata": {
        "id": "37a954a7-a0ea-4bec-9d60-3ec0ea549f40"
      },
      "source": [
        "Now let's implement the IPS estimator:"
      ]
    },
    {
      "cell_type": "code",
      "execution_count": 73,
      "id": "f574b73d-38b7-4504-addc-47fd23839d40",
      "metadata": {
        "colab": {
          "base_uri": "https://localhost:8080/"
        },
        "id": "f574b73d-38b7-4504-addc-47fd23839d40",
        "outputId": "f880e970-50e2-477b-fcd5-07aa22ebe228"
      },
      "outputs": [
        {
          "data": {
            "text/plain": [
              "104.61779999999999"
            ]
          },
          "execution_count": 73,
          "metadata": {},
          "output_type": "execute_result"
        }
      ],
      "source": [
        "def compute_ips(df):\n",
        "    assert {\"model_prob\", \"item_prob\", \"item_satisfaction\"}.issubset(df.columns)\n",
        "    return (df[\"model_prob\"] / df[\"item_prob\"] * df[\"item_satisfaction\"]).mean()\n",
        "\n",
        "compute_ips(logs)"
      ]
    },
    {
      "cell_type": "markdown",
      "id": "8d2a93e4-0e1d-45e1-846f-d7fd73bfb9de",
      "metadata": {
        "id": "8d2a93e4-0e1d-45e1-846f-d7fd73bfb9de"
      },
      "source": [
        "Computing the IPS estimator on our 1,000 entry log gives an average revenue much closer to our expected reward from the target policy compared to that of the logging policy. Therefore, we should be confident to deploy our target policy to production and do an A/B test comparing it with the logging policy as a final validation."
      ]
    },
    {
      "cell_type": "markdown",
      "id": "zQuEVahrzNV9",
      "metadata": {
        "id": "zQuEVahrzNV9"
      },
      "source": [
        "## **4. TODO 4.3: Capped IPS and NCIS**\n",
        "[back to top](#scrollTo=bvONhqQblFfl&uniqifier=1)"
      ]
    },
    {
      "cell_type": "markdown",
      "id": "ce6d30c6-7684-47d6-a65c-523138f5ee5a",
      "metadata": {
        "id": "ce6d30c6-7684-47d6-a65c-523138f5ee5a"
      },
      "source": [
        "Your goal is to implement two additional off-policy estimators:\n",
        "1. Capped IPS\n",
        "2. Normalized Capped Importance Sampling (NCIS)\n",
        "\n",
        "Feel free to try different capping thresholds, and compare the reward and standard deviations of these estimators with the IPS estimator and mean reward."
      ]
    },
    {
      "cell_type": "code",
      "execution_count": 86,
      "id": "5ec2fbc1-4b2d-4984-bc83-34d47cb067b4",
      "metadata": {
        "id": "5ec2fbc1-4b2d-4984-bc83-34d47cb067b4"
      },
      "outputs": [],
      "source": [
        "def compute_capped_ips(logs, cap=1000):\n",
        "    \"\"\"\n",
        "    Computes the Capped IPS.\n",
        "\n",
        "    Args:\n",
        "        logs (DataFrame): Generated logs data\n",
        "        cap (int): Capping threshold\n",
        "\n",
        "    Returns:\n",
        "        ips (float): Resulting IPS\n",
        "    \"\"\"\n",
        "    ips = 0\n",
        "\n",
        "    # Your code goes here\n",
        "    ips = (np.minimum(logs[\"model_prob\"] / logs[\"item_prob\"], cap)* logs[\"item_satisfaction\"]).mean()\n",
        "\n",
        "    return ips"
      ]
    },
    {
      "cell_type": "code",
      "execution_count": 87,
      "id": "cvKwraSWASxt",
      "metadata": {
        "colab": {
          "base_uri": "https://localhost:8080/"
        },
        "id": "cvKwraSWASxt",
        "outputId": "78854744-3c41-4785-8288-2813e318d223"
      },
      "outputs": [
        {
          "data": {
            "text/plain": [
              "104.61779999999999"
            ]
          },
          "execution_count": 87,
          "metadata": {},
          "output_type": "execute_result"
        }
      ],
      "source": [
        "compute_capped_ips(logs)"
      ]
    },
    {
      "cell_type": "code",
      "execution_count": 92,
      "id": "e4b03cee-1438-4f1f-a170-4b535979b231",
      "metadata": {
        "id": "e4b03cee-1438-4f1f-a170-4b535979b231"
      },
      "outputs": [],
      "source": [
        "def compute_ncis(logs, cap=1000):\n",
        "    \"\"\"\n",
        "    Computes the NCIS.\n",
        "\n",
        "    Args:\n",
        "        logs (DataFrame): Generated logs data\n",
        "        cap (int): Capping threshold\n",
        "\n",
        "    Returns:\n",
        "        ncis (float): Resulting NCIS\n",
        "    \"\"\"\n",
        "    ncis = 0\n",
        "\n",
        "    # Your code goes here\n",
        "    ncis = compute_capped_ips(logs, cap) / (logs[\"model_prob\"] / logs[\"item_prob\"]).mean()\n",
        "\n",
        "    return ncis"
      ]
    },
    {
      "cell_type": "code",
      "execution_count": 93,
      "id": "ZnqXduBeAPca",
      "metadata": {
        "colab": {
          "base_uri": "https://localhost:8080/"
        },
        "id": "ZnqXduBeAPca",
        "outputId": "1fa748d4-2e56-473d-f903-61fad2228947"
      },
      "outputs": [
        {
          "data": {
            "text/plain": [
              "107.05107084019768"
            ]
          },
          "execution_count": 93,
          "metadata": {},
          "output_type": "execute_result"
        }
      ],
      "source": [
        "compute_ncis(logs)"
      ]
    }
  ],
  "metadata": {
    "colab": {
      "provenance": [],
      "toc_visible": true
    },
    "environment": {
      "kernel": "python3",
      "name": "tf2-gpu.2-6.m89",
      "type": "gcloud",
      "uri": "gcr.io/deeplearning-platform-release/tf2-gpu.2-6:m89"
    },
    "kernelspec": {
      "display_name": "Python 3",
      "language": "python",
      "name": "python3"
    },
    "language_info": {
      "codemirror_mode": {
        "name": "ipython",
        "version": 3
      },
      "file_extension": ".py",
      "mimetype": "text/x-python",
      "name": "python",
      "nbconvert_exporter": "python",
      "pygments_lexer": "ipython3",
      "version": "3.10.4"
    },
    "vscode": {
      "interpreter": {
        "hash": "aee8b7b246df8f9039afb4144a1f6fd8d2ca17a180786b69acc140d282b71a49"
      }
    }
  },
  "nbformat": 4,
  "nbformat_minor": 5
}
